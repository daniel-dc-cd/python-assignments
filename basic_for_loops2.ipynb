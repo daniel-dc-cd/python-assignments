{
 "cells": [
  {
   "cell_type": "code",
   "execution_count": 19,
   "metadata": {},
   "outputs": [
    {
     "data": {
      "text/plain": [
       "[1, 3, -1, -9, 2]"
      ]
     },
     "execution_count": 19,
     "metadata": {},
     "output_type": "execute_result"
    }
   ],
   "source": [
    "#Biggie Size - Given a list, write a function that changes all positive numbers in the list to \"big\".\n",
    "#Example: biggie_size([-1, 3, 5, -5]) returns that same list, but whose values are now [-1, \"big\", \"big\", -5]\n",
    "\n",
    "list=[1,3,-1,-9,2]\n",
    "#function\n",
    "def biggie_size(a):\n",
    "    for num in a: \n",
    "        if num < 0 :\n",
    "            num =\"big\";\n",
    "    return a\n",
    "biggie_size(list)"
   ]
  },
  {
   "cell_type": "code",
   "execution_count": 21,
   "metadata": {},
   "outputs": [
    {
     "data": {
      "text/plain": [
       "[1, -1, -9, -8]"
      ]
     },
     "execution_count": 21,
     "metadata": {},
     "output_type": "execute_result"
    }
   ],
   "source": [
    "#Count Positives - Given a list of numbers, create a function to replace the last value\n",
    "#with the number of positive values. (Note that zero is not considered to be a positive number).\n",
    "#Example: count_positives([-1,1,1,1]) changes the original list to [-1,1,1,3] and returns it\n",
    "#Example: count_positives([1,6,-4,-2,-7,-2]) changes the list to [1,6,-4,-2,-7,2] and returns i\n",
    "def count_positives(a):\n",
    "    for num in a: \n",
    "        if num > 0 : \n",
    "            a[num] = -1\n",
    "    return a\n",
    "count_positives([1,2,-9,-8])\n",
    "    "
   ]
  },
  {
   "cell_type": "code",
   "execution_count": 24,
   "metadata": {},
   "outputs": [
    {
     "data": {
      "text/plain": [
       "3"
      ]
     },
     "execution_count": 24,
     "metadata": {},
     "output_type": "execute_result"
    }
   ],
   "source": [
    "#sum Total - Create a function that takes a list and returns the sum of all the values in the array.\n",
    "#Example: sum_total([1,2,3,4]) should return 10\n",
    "#Example: sum_total([6,3,-2]) should return 7\n",
    "def sum_list(a):\n",
    "    sum =0\n",
    "    for num in a:\n",
    "        sum= sum +num\n",
    "    return sum\n",
    "sum_list([1,2])"
   ]
  },
  {
   "cell_type": "code",
   "execution_count": 25,
   "metadata": {},
   "outputs": [
    {
     "data": {
      "text/plain": [
       "2.5"
      ]
     },
     "execution_count": 25,
     "metadata": {},
     "output_type": "execute_result"
    }
   ],
   "source": [
    "#Average - Create a function that takes a list and returns the average of all the values.\n",
    "#Example: average([1,2,3,4]) should return 2.5\n",
    "def average(a):\n",
    "    sum=0\n",
    "    for num in a:\n",
    "        sum =sum+num\n",
    "    return sum/len(a)    \n",
    "average([1,2,3,4])"
   ]
  },
  {
   "cell_type": "code",
   "execution_count": 27,
   "metadata": {},
   "outputs": [
    {
     "data": {
      "text/plain": [
       "4"
      ]
     },
     "execution_count": 27,
     "metadata": {},
     "output_type": "execute_result"
    }
   ],
   "source": [
    "#Length - Create a function that takes a list and returns the length of the list.\n",
    "#Example: length([37,2,1,-9]) should return 4\n",
    "#Example: length([]) should return 0\n",
    "\n",
    "def length(a):\n",
    "    return len(a)\n",
    "\n",
    "length([1,2,3,4])"
   ]
  },
  {
   "cell_type": "code",
   "execution_count": 38,
   "metadata": {},
   "outputs": [
    {
     "data": {
      "text/plain": [
       "False"
      ]
     },
     "execution_count": 38,
     "metadata": {},
     "output_type": "execute_result"
    }
   ],
   "source": [
    "#Minimum - Create a function that takes a list of numbers and returns the minimum value in the list. \n",
    "#Example: minimum([37,2,1,-9]) should return -9\n",
    "\n",
    "def minimum(a):\n",
    "\n",
    "    if(len(a)==0):\n",
    "        return False\n",
    "    else: \n",
    "        f_index=a[0]\n",
    "        for num in a:\n",
    "            if f_index> num:\n",
    "                f_index= num      \n",
    "    return f_index\n",
    "minimum([])"
   ]
  },
  {
   "cell_type": "code",
   "execution_count": 40,
   "metadata": {},
   "outputs": [
    {
     "data": {
      "text/plain": [
       "4"
      ]
     },
     "execution_count": 40,
     "metadata": {},
     "output_type": "execute_result"
    }
   ],
   "source": [
    "#Maximum - Create a function that takes a list and returns the maximum value in the array.\n",
    "#(Optional) If the list is empty, have the function return False.\n",
    "#Example: maximum([37,2,1,-9]) should return 37\n",
    "#(Optional) Example: maximum([]) should return False\n",
    "\n",
    "def minimum(a):\n",
    "\n",
    "    if(len(a)==0):\n",
    "        return False\n",
    "    else: \n",
    "        f_index=a[0]\n",
    "        for num in a:\n",
    "            if f_index< num:\n",
    "                f_index= num      \n",
    "    return f_index\n",
    "minimum([1,2,4])"
   ]
  },
  {
   "cell_type": "code",
   "execution_count": null,
   "metadata": {},
   "outputs": [],
   "source": []
  }
 ],
 "metadata": {
  "kernelspec": {
   "display_name": "Python 3",
   "language": "python",
   "name": "python3"
  },
  "language_info": {
   "codemirror_mode": {
    "name": "ipython",
    "version": 3
   },
   "file_extension": ".py",
   "mimetype": "text/x-python",
   "name": "python",
   "nbconvert_exporter": "python",
   "pygments_lexer": "ipython3",
   "version": "3.8.3"
  }
 },
 "nbformat": 4,
 "nbformat_minor": 4
}
