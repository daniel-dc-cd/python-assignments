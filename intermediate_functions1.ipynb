{
 "cells": [
  {
   "cell_type": "code",
   "execution_count": 2,
   "metadata": {},
   "outputs": [],
   "source": [
    "import random\n",
    "def randInt(min= 0  , max= 100  ):\n",
    "    num = random.random()\n",
    "    return num"
   ]
  },
  {
   "cell_type": "code",
   "execution_count": 4,
   "metadata": {},
   "outputs": [
    {
     "name": "stdout",
     "output_type": "stream",
     "text": [
      "0.8115305544937016\n"
     ]
    }
   ],
   "source": [
    "print(randInt())# should print a random integer between 0 to 100\n",
    "#output: 0.8115305544937016"
   ]
  },
  {
   "cell_type": "code",
   "execution_count": 5,
   "metadata": {},
   "outputs": [
    {
     "name": "stdout",
     "output_type": "stream",
     "text": [
      "0.05652608736060605\n"
     ]
    }
   ],
   "source": [
    "print(randInt(max=50)) # should print a random integer between 0 to 50\n",
    "#output:0.05652608736060605"
   ]
  },
  {
   "cell_type": "code",
   "execution_count": 6,
   "metadata": {},
   "outputs": [
    {
     "name": "stdout",
     "output_type": "stream",
     "text": [
      "0.46354282402741664\n"
     ]
    }
   ],
   "source": [
    "print(randInt(min=50)) # should print a random integer between 50 to 100\n",
    "#output:0.46354282402741664"
   ]
  },
  {
   "cell_type": "code",
   "execution_count": 7,
   "metadata": {},
   "outputs": [
    {
     "name": "stdout",
     "output_type": "stream",
     "text": [
      "0.07757012867282276\n"
     ]
    }
   ],
   "source": [
    "print(randInt(min=50, max=500))# should print a random integer between 50 and 500\n",
    "#output:0.0775701286728227"
   ]
  },
  {
   "cell_type": "code",
   "execution_count": null,
   "metadata": {},
   "outputs": [],
   "source": []
  }
 ],
 "metadata": {
  "kernelspec": {
   "display_name": "Python 3",
   "language": "python",
   "name": "python3"
  },
  "language_info": {
   "codemirror_mode": {
    "name": "ipython",
    "version": 3
   },
   "file_extension": ".py",
   "mimetype": "text/x-python",
   "name": "python",
   "nbconvert_exporter": "python",
   "pygments_lexer": "ipython3",
   "version": "3.8.3"
  }
 },
 "nbformat": 4,
 "nbformat_minor": 4
}
