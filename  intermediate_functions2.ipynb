{
 "cells": [
  {
   "cell_type": "code",
   "execution_count": 13,
   "metadata": {},
   "outputs": [
    {
     "name": "stdout",
     "output_type": "stream",
     "text": [
      "[[5, 2, 3], [15, 8, 9]]\n",
      "[{'first_name': 'Michael', 'last_name': 'Bryant'}, {'first_name': 'John', 'last_name': 'Rosales'}]\n",
      "{'basketball': ['Kobe', 'Jordan', 'James', 'Curry'], 'soccer': ['Andres', 'Ronaldo', 'Rooney']}\n",
      "[{'x': 10, 'y': 30}]\n"
     ]
    }
   ],
   "source": [
    "x = [ [5,2,3], [10,8,9] ] \n",
    "#Change the value 10 in x to 15. Once you're done, x should now be [ [5,2,3], [15,8,9] ].\n",
    "x[1][0]=15\n",
    "students = [\n",
    "     {'first_name':  'Michael', 'last_name' : 'Jordan'},\n",
    "     {'first_name' : 'John', 'last_name' : 'Rosales'}\n",
    "]\n",
    "#Change the last_name of the first student from 'Jordan' to 'Bryant'\n",
    "students[0]['last_name']='Bryant'\n",
    "\n",
    "sports_directory = {\n",
    "    'basketball' : ['Kobe', 'Jordan', 'James', 'Curry'],\n",
    "    'soccer' : ['Messi', 'Ronaldo', 'Rooney']\n",
    "}\n",
    "#in the sports_directory, change 'Messi' to 'Andres'\n",
    "sports_directory['soccer'][0]='Andres'\n",
    "\n",
    "z = [ {'x': 10, 'y': 20} ]\n",
    "#Change the value 20 in z to 30\n",
    "z[0]['y']=30\n",
    "\n",
    "#to check\n",
    "print(x)\n",
    "print(students)\n",
    "print(sports_directory)\n",
    "print(z)"
   ]
  },
  {
   "cell_type": "code",
   "execution_count": 35,
   "metadata": {},
   "outputs": [
    {
     "name": "stdout",
     "output_type": "stream",
     "text": [
      "first_ name - Michael\n",
      "first_ name - Jordan\n",
      "first_ name - John\n",
      "first_ name - Rosales\n",
      "first_ name - Mark\n",
      "first_ name - Guillen\n",
      "first_ name - KB\n",
      "first_ name - Tonel\n",
      "Michael\n",
      "Jordan\n",
      "John\n",
      "Rosales\n",
      "Mark\n",
      "Guillen\n",
      "KB\n",
      "Tonel\n"
     ]
    }
   ],
   "source": [
    "students = [\n",
    "         {'first_name':  'Michael', 'last_name' : 'Jordan'},\n",
    "         {'first_name' : 'John', 'last_name' : 'Rosales'},\n",
    "         {'first_name' : 'Mark', 'last_name' : 'Guillen'},\n",
    "         {'first_name' : 'KB', 'last_name' : 'Tonel'}\n",
    "    ]\n",
    "def iterateDictionary(student_lis):\n",
    "    for stu in student_lis:\n",
    "        for key,value in stu.items(): \n",
    "            print('first_ name - {}'.format(value))\n",
    "iterateDictionary(students) \n",
    "\n",
    "def iterateDictionary2(key,student_list):\n",
    "    for stu in student_list:\n",
    "        for key,value in  stu.items(): \n",
    "            print(value)\n",
    "\n",
    "    \n",
    "\n",
    "iterateDictionary2('first_name', students)\n"
   ]
  },
  {
   "cell_type": "code",
   "execution_count": null,
   "metadata": {},
   "outputs": [],
   "source": []
  }
 ],
 "metadata": {
  "kernelspec": {
   "display_name": "Python 3",
   "language": "python",
   "name": "python3"
  },
  "language_info": {
   "codemirror_mode": {
    "name": "ipython",
    "version": 3
   },
   "file_extension": ".py",
   "mimetype": "text/x-python",
   "name": "python",
   "nbconvert_exporter": "python",
   "pygments_lexer": "ipython3",
   "version": "3.8.3"
  }
 },
 "nbformat": 4,
 "nbformat_minor": 4
}
