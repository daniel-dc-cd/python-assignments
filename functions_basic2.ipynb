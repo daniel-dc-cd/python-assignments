{
 "cells": [
  {
   "cell_type": "code",
   "execution_count": 9,
   "metadata": {},
   "outputs": [
    {
     "data": {
      "text/plain": [
       "[5, 4, 3, 2, 1, 0]"
      ]
     },
     "execution_count": 9,
     "metadata": {},
     "output_type": "execute_result"
    }
   ],
   "source": [
    "#Countdown - Create a function that accepts a number as an input. \n",
    "#Return a new list that counts down by one, from the number (as the 0th element) down to 0 (as the last element).\n",
    "#Example: countdown(5) should return the list: [5,4,3,2,1,0]\n",
    "def countdown(a):\n",
    "    list=[]\n",
    "    while a != -1:\n",
    "        list.append(a)\n",
    "        a= a-1\n",
    "    return list    \n",
    "\n",
    "countdown(5)"
   ]
  },
  {
   "cell_type": "code",
   "execution_count": 10,
   "metadata": {},
   "outputs": [
    {
     "name": "stdout",
     "output_type": "stream",
     "text": [
      "3\n"
     ]
    },
    {
     "data": {
      "text/plain": [
       "4"
      ]
     },
     "execution_count": 10,
     "metadata": {},
     "output_type": "execute_result"
    }
   ],
   "source": [
    "#Print and Return - Create a function that will receive a list with two numbers. \n",
    "#Print the first value and return the second.\n",
    "#Example: print_and_return([1,2]) should print 1 and return 2\n",
    "def print_and_return(a,b):\n",
    "    print(a)\n",
    "    return b\n",
    "print_and_return(3,4)"
   ]
  },
  {
   "cell_type": "code",
   "execution_count": 16,
   "metadata": {},
   "outputs": [
    {
     "data": {
      "text/plain": [
       "5"
      ]
     },
     "execution_count": 16,
     "metadata": {},
     "output_type": "execute_result"
    }
   ],
   "source": [
    "#First Plus Length - Create a function that accepts a list \n",
    "#and returns the sum of the first value in the list plus the list's length.\n",
    "#Example: first_plus_length([1,2,3,4,5]) should return 6 (first value: 1 + length: 5)\n",
    "def first_plus_length(a):\n",
    "    first_element= a[0]\n",
    "    list_len= len(a)\n",
    "    return first_element + list_len\n",
    "\n",
    "first_plus_length([1,4,2,4])"
   ]
  },
  {
   "cell_type": "code",
   "execution_count": 17,
   "metadata": {},
   "outputs": [
    {
     "data": {
      "text/plain": [
       "[3, 3, 3, 3, 3]"
      ]
     },
     "execution_count": 17,
     "metadata": {},
     "output_type": "execute_result"
    }
   ],
   "source": [
    "#This Length, That Value- Write a function that accepts two integers as parameters: size and value.\n",
    "#The function should create and return a list whose length is equal to the given size\n",
    "#, and whose values are all the given value.\n",
    "#Example: length_and_value(4,7) should return [7,7,7,7]\n",
    "#Example: length_and_value(6,2) should return [2,2,2,2,2,2]\n",
    "def length_and_value(size,value):\n",
    "    list=[]\n",
    "    a = size\n",
    "    while a != 0:\n",
    "        list.append(value)\n",
    "        a= a-1\n",
    "    return list\n",
    "length_and_value(5,3)"
   ]
  },
  {
   "cell_type": "code",
   "execution_count": null,
   "metadata": {},
   "outputs": [],
   "source": [
    "\n"
   ]
  }
 ],
 "metadata": {
  "kernelspec": {
   "display_name": "Python 3",
   "language": "python",
   "name": "python3"
  },
  "language_info": {
   "codemirror_mode": {
    "name": "ipython",
    "version": 3
   },
   "file_extension": ".py",
   "mimetype": "text/x-python",
   "name": "python",
   "nbconvert_exporter": "python",
   "pygments_lexer": "ipython3",
   "version": "3.8.3"
  }
 },
 "nbformat": 4,
 "nbformat_minor": 4
}
